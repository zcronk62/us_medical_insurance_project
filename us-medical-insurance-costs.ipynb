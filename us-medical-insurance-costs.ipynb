{
 "cells": [
  {
   "cell_type": "markdown",
   "metadata": {},
   "source": [
    "# U.S. Medical Insurance Costs"
   ]
  },
  {
   "cell_type": "markdown",
   "metadata": {},
   "source": [
    "This project seeks to analyze a dataset containing seemingly simulated U.S. medical insurance data in the form of a `.csv` file. The dataset is structured as follows:\n",
    "\n",
    "* age: this column contains the age of the client in years\n",
    "* sex: this column contains biological sex information. It is important to note that the dataset does not contain gender identity information. As such, not insights into gender identity can be gleaned.\n",
    "* bmi: this column contains the body mass index (BMI) of the client.\n",
    "* children: this column contains the number of children the client has.\n",
    "* smoker: this column states whether the client is a smoker.\n",
    "* region: this column contains the region in which the client resides\n",
    "* charges: this column contains the amount paid by the client, presumably per annum.\n",
    "\n",
    "## Project Scoping\n",
    "\n",
    "* What is the average age?\n",
    "* What proportion of the dataset resides in each region?\n",
    "* What proportion are males or females?\n",
    "* What proportion are smokers?\n",
    "* What is the average of smokers vs. non-smokers? What about in each region?\n",
    "* What is the average age for a client with a given number of children?\n",
    "* I would like to answer the same quesitons as above replacing age with bmi and charges.\n",
    "\n",
    "## Importing the Data\n",
    "\n",
    "Because the data is in `.csv` format, I will use the `csv` module to import the data into lists."
   ]
  },
  {
   "cell_type": "code",
   "execution_count": 2,
   "metadata": {},
   "outputs": [],
   "source": [
    "import csv"
   ]
  },
  {
   "cell_type": "code",
   "execution_count": 3,
   "metadata": {
    "scrolled": true
   },
   "outputs": [],
   "source": [
    "insurance_data_dict = {}\n",
    "ages = []\n",
    "sexes = []\n",
    "bmis = []\n",
    "smokers = []\n",
    "children = []\n",
    "regions = []\n",
    "charges = []\n",
    "\n",
    "with open('insurance.csv') as insurance_file:\n",
    "    insurance_data = csv.DictReader(insurance_file)\n",
    "    for row in insurance_data:\n",
    "        ages.append(int(row['age']))\n",
    "        sexes.append(row['sex'])\n",
    "        bmis.append(float(row['bmi']))\n",
    "        smokers.append(row['smoker'])\n",
    "        children.append(int(row['children']))\n",
    "        regions.append(row['region'])\n",
    "        charges.append(float(row['charges']))"
   ]
  },
  {
   "cell_type": "markdown",
   "metadata": {},
   "source": [
    "I would like my data to be contained in a more convenient form. For that I will use a dictionary. I will write a function that will take the above lists and add them to a dicitonary with \"Client x\" as the keys."
   ]
  },
  {
   "cell_type": "code",
   "execution_count": 4,
   "metadata": {},
   "outputs": [
    {
     "name": "stdout",
     "output_type": "stream",
     "text": [
      "{'age': 19, 'sex': 'female', 'bmi': 27.9, 'smoker': 'yes', 'children': 0, 'region': 'southwest', 'charges': 16884.924}\n"
     ]
    }
   ],
   "source": [
    "def make_master_dict(age, sex, bmi, smoker, children, region, charges):\n",
    "    \"\"\"\n",
    "    This function will take lists containing the data \n",
    "    from file and create a master data dictionary.\n",
    "    \"\"\"\n",
    "    master_dict = {}\n",
    "    for i in range(len(age)):\n",
    "        client_dict = {'age': age[i], 'sex': sex[i], 'bmi': bmi[i], \n",
    "                      'smoker': smoker[i], 'children': children[i],\n",
    "                       'region': region[i], 'charges': charges[i]}\n",
    "        master_dict['Client ' + str(i + 1)] = client_dict\n",
    "    return master_dict\n",
    "\n",
    "insurance_data_dict = make_master_dict(ages, sexes, bmis, smokers, children, regions, charges)\n",
    "### Quick print statement to test my above function\n",
    "print(insurance_data_dict['Client 1'])"
   ]
  },
  {
   "cell_type": "markdown",
   "metadata": {},
   "source": [
    "## Calculations and Analysis\n",
    "\n",
    "Now that I have a master data dictionary, I can begin my analysis. The first questions I would like to answer are \"what is the average age?\", \"what is the average BMI?\" and \"what is the average per annum cost paid by clients represented in the dataset?\". This preliminary line of questioning will serve well to intoduce me to the dataset."
   ]
  },
  {
   "cell_type": "code",
   "execution_count": 5,
   "metadata": {},
   "outputs": [
    {
     "name": "stdout",
     "output_type": "stream",
     "text": [
      "The average age in the dataset is 39.2 years.\n",
      "The average BMI in the dataset is 30.7.\n",
      "The average cost per annum in the dataset is 13270.42 dollars.\n"
     ]
    }
   ],
   "source": [
    "def avg_calc(data_dict, feature):\n",
    "    '''\n",
    "    This function will take a numerical feature from the data_dict\n",
    "    and return the average value.\n",
    "    '''\n",
    "    total_feature = 0\n",
    "    for client, data in data_dict.items():\n",
    "        total_feature += data[feature]\n",
    "    avg_feature = float(total_feature) / len(data_dict)\n",
    "    return avg_feature\n",
    "\n",
    "avg_age = avg_calc(insurance_data_dict, 'age')\n",
    "print('The average age in the dataset is {:.1f} years.'.format(avg_age))\n",
    "avg_bmi = avg_calc(insurance_data_dict, 'bmi')\n",
    "print('The average BMI in the dataset is {:.1f}.'.format(avg_bmi))\n",
    "avg_charges = avg_calc(insurance_data_dict, 'charges')\n",
    "print('The average cost per annum in the dataset is {:.2f} dollars.'.format(avg_charges))"
   ]
  },
  {
   "cell_type": "markdown",
   "metadata": {},
   "source": [
    "Now I would like to learn some information about the categorical features. I will begin by deteriming the proportion of the dataset population for each of the feature values. To that end, I will here develope two functions. The first will take my master data dictionary and produce a second dictionary using a categorical features unique values as keys. The values for the above keys will be the data for each client who's categorical feature matches that unique value.\n",
    "\n",
    "The second function will use that new categorical dictionary and calculate the proportion of the dataset belong to each of the unique values of that feature."
   ]
  },
  {
   "cell_type": "code",
   "execution_count": 7,
   "metadata": {},
   "outputs": [
    {
     "name": "stdout",
     "output_type": "stream",
     "text": [
      "49.5% of the dataset are females.\n",
      "50.5% of the dataset are males.\n"
     ]
    }
   ],
   "source": [
    "def feature_dict_creator(data_dict, feature):\n",
    "    '''\n",
    "    This function will create a dictonary containing the client\n",
    "    data for each of the relevent categorical values within the\n",
    "    given feature.\n",
    "    '''\n",
    "    feature_dict = {}\n",
    "    for client, data in data_dict.items():\n",
    "        current_feature_val = data[feature]\n",
    "        if current_feature_val in feature_dict:\n",
    "            feature_dict[current_feature_val].append(data)\n",
    "        else:\n",
    "            feature_dict[current_feature_val] = [data]\n",
    "    return feature_dict\n",
    "\n",
    "def prop_calculator(data_dict, feature):\n",
    "    '''\n",
    "    This function will calculate the proportion of the dataset\n",
    "    belonging to the relevent categorical values for the given\n",
    "    categorical feature.\n",
    "    '''\n",
    "    dict_for_prop_calc = feature_dict_creator(data_dict, feature)\n",
    "    prop_dict = {}\n",
    "    for feature, client_data in dict_for_prop_calc.items():\n",
    "        current_feature_count = len(dict_for_prop_calc[feature])\n",
    "        prop_feature = float(current_feature_count) / len(data_dict)\n",
    "        prop_dict[feature] = prop_feature * 100\n",
    "    return prop_dict\n",
    "\n",
    "sex_prop_dict = prop_calculator(insurance_data_dict, 'sex')\n",
    "for sex in sex_prop_dict.keys():\n",
    "    print('{pct:.1f}% of the dataset are {sex}s.'.format(pct = sex_prop_dict[sex], sex = sex))"
   ]
  },
  {
   "cell_type": "code",
   "execution_count": 8,
   "metadata": {},
   "outputs": [
    {
     "name": "stdout",
     "output_type": "stream",
     "text": [
      "20.5% of the dataset responded \"yes\" when asked if they smoked.\n",
      "79.5% of the dataset responded \"no\" when asked if they smoked.\n"
     ]
    }
   ],
   "source": [
    "smokers_prop_dict = prop_calculator(insurance_data_dict, 'smoker')\n",
    "for status in smokers_prop_dict.keys():\n",
    "    print(\"{pct:.1f}% of the dataset responded \\\"{status}\\\" when asked if they smoked.\".format(pct = smokers_prop_dict[status], status = status))"
   ]
  },
  {
   "cell_type": "code",
   "execution_count": 9,
   "metadata": {},
   "outputs": [
    {
     "name": "stdout",
     "output_type": "stream",
     "text": [
      "24.3% of the dataset resides in the southwest region of the U.S.\n",
      "27.2% of the dataset resides in the southeast region of the U.S.\n",
      "24.3% of the dataset resides in the northwest region of the U.S.\n",
      "24.2% of the dataset resides in the northeast region of the U.S.\n"
     ]
    }
   ],
   "source": [
    "region_prop_dict = prop_calculator(insurance_data_dict, 'region')\n",
    "for region in region_prop_dict.keys():\n",
    "    print(\"{pct:.1f}% of the dataset resides in the {region} region of the U.S.\".format(pct = region_prop_dict[region], region = region))"
   ]
  },
  {
   "cell_type": "code",
   "execution_count": 10,
   "metadata": {},
   "outputs": [
    {
     "name": "stdout",
     "output_type": "stream",
     "text": [
      "42.9% of the dataset have 0 child(ren).\n",
      "24.2% of the dataset have 1 child(ren).\n",
      "11.7% of the dataset have 3 child(ren).\n",
      "17.9% of the dataset have 2 child(ren).\n",
      "1.3% of the dataset have 5 child(ren).\n",
      "1.9% of the dataset have 4 child(ren).\n"
     ]
    }
   ],
   "source": [
    "children_prop_dict = prop_calculator(insurance_data_dict, 'children')\n",
    "for children in children_prop_dict.keys():\n",
    "    print(\"{pct:.1f}% of the dataset have {children} child(ren).\".format(pct = children_prop_dict[children], children = children))"
   ]
  },
  {
   "cell_type": "markdown",
   "metadata": {},
   "source": [
    "I would now like to look at how the average values of my numerical features change with different categorical features. For example, I would like to answer questions like \"Is there a difference in the average age/BMI/per annum cost of insurance between males and females?\". I will write another function to do just that."
   ]
  },
  {
   "cell_type": "code",
   "execution_count": 11,
   "metadata": {},
   "outputs": [
    {
     "name": "stdout",
     "output_type": "stream",
     "text": [
      "The average age of females is 39.5 years.\n",
      "The average age of males is 38.9 years.\n"
     ]
    }
   ],
   "source": [
    "def avg_feat_cat(data_dict, num_feat, cat_feat):\n",
    "    '''\n",
    "    This function will output the average of a numerical\n",
    "    feature for a given categorical feature in the data-\n",
    "    set.\n",
    "    '''\n",
    "    cat_org_dict = feature_dict_creator(data_dict, cat_feat)\n",
    "    cat_avg_dict = {}\n",
    "    for cat_feature, data_list in cat_org_dict.items():\n",
    "        total_num_feat = 0\n",
    "        for data in data_list:\n",
    "            total_num_feat += data[num_feat]\n",
    "        avg_num_feature = float(total_num_feat) / len(data_list)\n",
    "        cat_avg_dict[cat_feature] = avg_num_feature\n",
    "    return cat_avg_dict\n",
    "\n",
    "avg_age_sex = avg_feat_cat(insurance_data_dict, 'age', 'sex')\n",
    "for cat in avg_age_sex:\n",
    "    print('The average age of {cat}s is {avg:.1f} years.'.format(cat = cat, avg = avg_age_sex[cat]))"
   ]
  },
  {
   "cell_type": "code",
   "execution_count": 12,
   "metadata": {},
   "outputs": [
    {
     "name": "stdout",
     "output_type": "stream",
     "text": [
      "The average BMI of females is 30.4.\n",
      "The average BMI of males is 30.9.\n"
     ]
    }
   ],
   "source": [
    "avg_bmi_sex = avg_feat_cat(insurance_data_dict, 'bmi', 'sex')\n",
    "for cat in avg_bmi_sex:\n",
    "    print('The average BMI of {cat}s is {avg:.1f}.'.format(cat = cat, avg = avg_bmi_sex[cat]))"
   ]
  },
  {
   "cell_type": "code",
   "execution_count": 13,
   "metadata": {},
   "outputs": [
    {
     "name": "stdout",
     "output_type": "stream",
     "text": [
      "The average annual insurance cost for females is 12569.58 dollars.\n",
      "The average annual insurance cost for males is 13956.75 dollars.\n"
     ]
    }
   ],
   "source": [
    "avg_cost_sex = avg_feat_cat(insurance_data_dict, 'charges', 'sex')\n",
    "for cat in avg_cost_sex:\n",
    "    print('The average annual insurance cost for {cat}s is {avg:.2f} dollars.'.format(cat = cat, avg = avg_cost_sex[cat]))"
   ]
  },
  {
   "cell_type": "code",
   "execution_count": 14,
   "metadata": {},
   "outputs": [
    {
     "name": "stdout",
     "output_type": "stream",
     "text": [
      "The average age of clients who responded \"yes\" to whether they smoke is 38.5 years.\n",
      "The average age of clients who responded \"no\" to whether they smoke is 39.4 years.\n"
     ]
    }
   ],
   "source": [
    "avg_age_smoker = avg_feat_cat(insurance_data_dict, 'age', 'smoker')\n",
    "for cat in avg_age_smoker:\n",
    "    print('The average age of clients who responded \\\"{cat}\\\" to whether they smoke is {avg:.1f} years.'.format(cat = cat, avg = avg_age_smoker[cat]))"
   ]
  },
  {
   "cell_type": "code",
   "execution_count": 15,
   "metadata": {},
   "outputs": [
    {
     "name": "stdout",
     "output_type": "stream",
     "text": [
      "The average BMI of clients who responded \"yes\" to whether they smoke is 30.7.\n",
      "The average BMI of clients who responded \"no\" to whether they smoke is 30.7.\n"
     ]
    }
   ],
   "source": [
    "avg_bmi_smoker = avg_feat_cat(insurance_data_dict, 'bmi', 'smoker')\n",
    "for cat in avg_bmi_smoker:\n",
    "    print('The average BMI of clients who responded \\\"{cat}\\\" to whether they smoke is {avg:.1f}.'.format(cat = cat, avg = avg_bmi_smoker[cat]))"
   ]
  },
  {
   "cell_type": "code",
   "execution_count": 16,
   "metadata": {
    "scrolled": true
   },
   "outputs": [
    {
     "name": "stdout",
     "output_type": "stream",
     "text": [
      "The average yearly cost of insurance for clients who responded \"yes\" to whether they smoke is 32050.23 dollars.\n",
      "The average yearly cost of insurance for clients who responded \"no\" to whether they smoke is 8434.27 dollars.\n"
     ]
    }
   ],
   "source": [
    "avg_cost_smoker = avg_feat_cat(insurance_data_dict, 'charges', 'smoker')\n",
    "for cat in avg_cost_smoker:\n",
    "    print('The average yearly cost of insurance for clients who responded \\\"{cat}\\\" to whether they smoke is {avg:.2f} dollars.'.format(cat = cat, avg = avg_cost_smoker[cat]))"
   ]
  },
  {
   "cell_type": "code",
   "execution_count": 17,
   "metadata": {},
   "outputs": [
    {
     "name": "stdout",
     "output_type": "stream",
     "text": [
      "The average age of clients residing in the southwest region is 39.5 years.\n",
      "The average age of clients residing in the southeast region is 38.9 years.\n",
      "The average age of clients residing in the northwest region is 39.2 years.\n",
      "The average age of clients residing in the northeast region is 39.3 years.\n"
     ]
    }
   ],
   "source": [
    "avg_age_region = avg_feat_cat(insurance_data_dict, 'age', 'region')\n",
    "for cat in avg_age_region:\n",
    "    print('The average age of clients residing in the {cat} region is {avg:.1f} years.'.format(cat = cat, avg = avg_age_region[cat]))"
   ]
  },
  {
   "cell_type": "code",
   "execution_count": 18,
   "metadata": {},
   "outputs": [
    {
     "name": "stdout",
     "output_type": "stream",
     "text": [
      "The average BMI of clients residing in the southwest region is 30.6.\n",
      "The average BMI of clients residing in the southeast region is 33.4.\n",
      "The average BMI of clients residing in the northwest region is 29.2.\n",
      "The average BMI of clients residing in the northeast region is 29.2.\n"
     ]
    }
   ],
   "source": [
    "avg_bmi_region = avg_feat_cat(insurance_data_dict, 'bmi', 'region')\n",
    "for cat in avg_bmi_region:\n",
    "    print('The average BMI of clients residing in the {cat} region is {avg:.1f}.'.format(cat = cat, avg = avg_bmi_region[cat]))"
   ]
  },
  {
   "cell_type": "code",
   "execution_count": 19,
   "metadata": {},
   "outputs": [
    {
     "name": "stdout",
     "output_type": "stream",
     "text": [
      "The average annual cost of insurance for clients residing in the southwest region is 12346.94 dollars.\n",
      "The average annual cost of insurance for clients residing in the southeast region is 14735.41 dollars.\n",
      "The average annual cost of insurance for clients residing in the northwest region is 12417.58 dollars.\n",
      "The average annual cost of insurance for clients residing in the northeast region is 13406.38 dollars.\n"
     ]
    }
   ],
   "source": [
    "avg_cost_region = avg_feat_cat(insurance_data_dict, 'charges', 'region')\n",
    "for cat in avg_cost_region:\n",
    "    print('The average annual cost of insurance for clients residing in the {cat} region is {avg:.2f} dollars.'.format(cat = cat, avg = avg_cost_region[cat]))"
   ]
  },
  {
   "cell_type": "code",
   "execution_count": 24,
   "metadata": {},
   "outputs": [
    {
     "name": "stdout",
     "output_type": "stream",
     "text": [
      "The average age of clients with 0 child(ren) is 38.4 years.\n",
      "The average age of clients with 1 child(ren) is 39.5 years.\n",
      "The average age of clients with 2 child(ren) is 39.4 years.\n",
      "The average age of clients with 3 child(ren) is 41.6 years.\n",
      "The average age of clients with 4 child(ren) is 39.0 years.\n",
      "The average age of clients with 5 child(ren) is 35.6 years.\n"
     ]
    }
   ],
   "source": [
    "avg_age_children = avg_feat_cat(insurance_data_dict, 'age', 'children')\n",
    "for cat in sorted(list(avg_age_children.keys())):\n",
    "    print('The average age of clients with {cat} child(ren) is {avg:.1f} years.'.format(cat = cat, avg = avg_age_children[cat]))"
   ]
  },
  {
   "cell_type": "code",
   "execution_count": 25,
   "metadata": {},
   "outputs": [
    {
     "name": "stdout",
     "output_type": "stream",
     "text": [
      "The average BMI of clients with 0 child(ren) is 30.6.\n",
      "The average BMI of clients with 1 child(ren) is 30.6.\n",
      "The average BMI of clients with 2 child(ren) is 31.0.\n",
      "The average BMI of clients with 3 child(ren) is 30.7.\n",
      "The average BMI of clients with 4 child(ren) is 31.4.\n",
      "The average BMI of clients with 5 child(ren) is 29.6.\n"
     ]
    }
   ],
   "source": [
    "avg_bmi_children = avg_feat_cat(insurance_data_dict, 'bmi', 'children')\n",
    "for cat in sorted(list(avg_bmi_children.keys())):\n",
    "    print('The average BMI of clients with {cat} child(ren) is {avg:.1f}.'.format(cat = cat, avg = avg_bmi_children[cat]))"
   ]
  },
  {
   "cell_type": "code",
   "execution_count": 26,
   "metadata": {},
   "outputs": [
    {
     "name": "stdout",
     "output_type": "stream",
     "text": [
      "The average annual cost of insurance for clients with 0 child(ren) is 12365.98 dollars.\n",
      "The average annual cost of insurance for clients with 1 child(ren) is 12731.17 dollars.\n",
      "The average annual cost of insurance for clients with 2 child(ren) is 15073.56 dollars.\n",
      "The average annual cost of insurance for clients with 3 child(ren) is 15355.32 dollars.\n",
      "The average annual cost of insurance for clients with 4 child(ren) is 13850.66 dollars.\n",
      "The average annual cost of insurance for clients with 5 child(ren) is 8786.04 dollars.\n"
     ]
    }
   ],
   "source": [
    "avg_cost_children = avg_feat_cat(insurance_data_dict, 'charges', 'children')\n",
    "for cat in sorted(list(avg_cost_children.keys())):\n",
    "    print('The average annual cost of insurance for clients with {cat} child(ren) is {avg:.2f} dollars.'.format(cat = cat, avg = avg_cost_children[cat]))"
   ]
  },
  {
   "cell_type": "markdown",
   "metadata": {},
   "source": [
    "## Conclusions\n",
    "\n",
    "In this project, I was successfully able to import the simulated U.S. medical insurance data provided by Codecademy. I then added the data to convineniently structured lists and dictionaries for descriptive analysis. I was able to disern the following important takeawys:\n",
    "\n",
    "* Smoking appears to effect the yearly cost of insurance the most. Within the data, 20.5% of clients responded as smokers. These clients paid, on average $\\$$32050.23 while non-smokers paid $\\$$8434.27. To keep insurance costs low, I would suggest clients quit smoking.\n",
    "\n",
    "* While the average age of clients in each region is relatively consistent (ranging from 38.9 to 39.5 years of age), the BMI has a much broader range and so too does the yearly cost. When looking at the charges, the southeast region pays the highs yearly insurance costs. The southeast region also has the highest average BMI. This suggests that BMI is a key contributer to insurance primiums as well as whether a client smokes.\n",
    "\n",
    "* Males paid higher yearly insurance costs than females. The other numerical features are consistent between males and females in this data so the cause has yet to be revealed.\n",
    "\n",
    "* Clients with 5 children on average paid much less than other clients. They also tended to be much younger. It is not immediately apparent if the number of children is a driving contributer or if the difference is contained within the change in average age."
   ]
  }
 ],
 "metadata": {
  "kernelspec": {
   "display_name": "Python 3 (ipykernel)",
   "language": "python",
   "name": "python3"
  },
  "language_info": {
   "codemirror_mode": {
    "name": "ipython",
    "version": 3
   },
   "file_extension": ".py",
   "mimetype": "text/x-python",
   "name": "python",
   "nbconvert_exporter": "python",
   "pygments_lexer": "ipython3",
   "version": "3.8.10"
  }
 },
 "nbformat": 4,
 "nbformat_minor": 4
}
